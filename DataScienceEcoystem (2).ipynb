{
 "cells": [
  {
   "cell_type": "markdown",
   "id": "f1e0a703",
   "metadata": {},
   "source": [
    " # Data Science Tools and Ecosystem"
   ]
  },
  {
   "cell_type": "markdown",
   "id": "88cfc410",
   "metadata": {},
   "source": [
    "## Author: \n",
    "Rhea"
   ]
  },
  {
   "cell_type": "markdown",
   "id": "ee9c12ff",
   "metadata": {},
   "source": [
    "In this notebook, Data Science Tools and Ecosystem are summarized. "
   ]
  },
  {
   "cell_type": "markdown",
   "id": "ae177a4c",
   "metadata": {},
   "source": [
    "**Objectives:**\n",
    "- List popular languages for Data Science\n",
    "- List commonly used libraries for Data Science \n",
    "- List cmmonly used libraries for Data Science \n",
    "- Conducting artihimetic expressions"
   ]
  },
  {
   "cell_type": "markdown",
   "id": "b7511f70",
   "metadata": {},
   "source": [
    "Some of the popular languages that Data Scientists use are:\n",
    "1. Python \n",
    "2. SQL\n",
    "3. R"
   ]
  },
  {
   "cell_type": "markdown",
   "id": "cb19d316",
   "metadata": {},
   "source": [
    "Some of the commonly used libraries used by Data Scientists include: \n",
    "1. Pandas\n",
    "2. Matplotlib \n",
    "3. Seaborn\n"
   ]
  },
  {
   "cell_type": "markdown",
   "id": "1b7ad8ea",
   "metadata": {},
   "source": [
    "|Data Science Tools|\n",
    "|------------------------|\n",
    "|Apache Spark |\n",
    "|RStudio|\n",
    "|Apache Hadoop|\n",
    "\n"
   ]
  },
  {
   "cell_type": "markdown",
   "id": "f2cfe05f-8b3b-4447-90d5-e478634c89da",
   "metadata": {},
   "source": [
    "Below are a few examples of evaluvating arithmetic expression in Python."
   ]
  },
  {
   "cell_type": "code",
   "execution_count": 4,
   "id": "fb53a658",
   "metadata": {},
   "outputs": [
    {
     "data": {
      "text/plain": [
       "17"
      ]
     },
     "execution_count": 4,
     "metadata": {},
     "output_type": "execute_result"
    }
   ],
   "source": [
    "# This is a simple arithmetic expression to multiply and then add integers\n",
    "(3* 4) +5"
   ]
  },
  {
   "cell_type": "code",
   "execution_count": 5,
   "id": "90981ee0",
   "metadata": {},
   "outputs": [
    {
     "data": {
      "text/plain": [
       "3.3333333333333335"
      ]
     },
     "execution_count": 5,
     "metadata": {},
     "output_type": "execute_result"
    }
   ],
   "source": [
    "#This will convert 200 minutes to hours by dividing by 60.\n",
    "200/60"
   ]
  }
 ],
 "metadata": {
  "kernelspec": {
   "display_name": "Python 3 (ipykernel)",
   "language": "python",
   "name": "python3"
  },
  "language_info": {
   "codemirror_mode": {
    "name": "ipython",
    "version": 3
   },
   "file_extension": ".py",
   "mimetype": "text/x-python",
   "name": "python",
   "nbconvert_exporter": "python",
   "pygments_lexer": "ipython3",
   "version": "3.9.13"
  }
 },
 "nbformat": 4,
 "nbformat_minor": 5
}
